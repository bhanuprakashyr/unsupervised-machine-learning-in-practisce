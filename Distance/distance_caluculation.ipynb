{
 "cells": [
  {
   "cell_type": "markdown",
   "id": "f7c49815",
   "metadata": {},
   "source": [
    "## Different Kinds of Calculating distance"
   ]
  },
  {
   "cell_type": "code",
   "execution_count": 16,
   "id": "3497ae3d",
   "metadata": {},
   "outputs": [
    {
     "name": "stdout",
     "output_type": "stream",
     "text": [
      "Euclidean: 2.449489742783178\n",
      "Squared Euclidean: 6.0\n",
      "Manhattan (L1): 4.0\n",
      "Minkowski p=3: 2.154434690031884\n",
      "Chebyshev: 2.0\n",
      "Cosine distance: 0.16333997346592444\n",
      "Mahalanobis (diag-fallback): 3.4641015631762317\n",
      "Mahalanobis (from toy-cov): 2.449489742783178\n"
     ]
    }
   ],
   "source": [
    "# single_pair_distances.py\n",
    "import numpy as np\n",
    "\n",
    "# ---------------------------\n",
    "# Single-pair distance funcs\n",
    "# ---------------------------\n",
    "\n",
    "def euclidean(x, y):\n",
    "    x, y = np.asarray(x, dtype=float), np.asarray(y, dtype=float)\n",
    "    return np.linalg.norm(x - y)                      # sqrt(sum((x-y)^2))\n",
    "\n",
    "def squared_euclidean(x, y):\n",
    "    x, y = np.asarray(x, dtype=float), np.asarray(y, dtype=float)\n",
    "    d = x - y\n",
    "    return float(np.dot(d, d))                        # sum((x-y)^2)\n",
    "\n",
    "def manhattan(x, y):\n",
    "    x, y = np.asarray(x, dtype=float), np.asarray(y, dtype=float)\n",
    "    return float(np.sum(np.abs(x - y)))               # L1\n",
    "\n",
    "def minkowski(x, y, p=3):\n",
    "    x, y = np.asarray(x, dtype=float), np.asarray(y, dtype=float)\n",
    "    return float(np.sum(np.abs(x - y) ** p) ** (1.0 / p))\n",
    "\n",
    "def chebyshev(x, y):\n",
    "    x, y = np.asarray(x, dtype=float), np.asarray(y, dtype=float)\n",
    "    return float(np.max(np.abs(x - y)))\n",
    "\n",
    "def cosine_distance(x, y):\n",
    "    x, y = np.asarray(x, dtype=float), np.asarray(y, dtype=float)\n",
    "    nx, ny = np.linalg.norm(x), np.linalg.norm(y)\n",
    "    if nx == 0 or ny == 0:\n",
    "        # If either vector is zero, cosine similarity is undefined; return max distance (1.0)\n",
    "        return 1.0\n",
    "    cos_sim = float(np.dot(x, y) / (nx * ny))\n",
    "    # Numerical safety: clip to [-1,1]\n",
    "    cos_sim = max(-1.0, min(1.0, cos_sim))\n",
    "    return 1.0 - cos_sim\n",
    "\n",
    "def mahalanobis(x, y, cov=None, regularize=1e-8):\n",
    "    \"\"\"\n",
    "    Mahalanobis distance between x and y.\n",
    "    If `cov` (covariance matrix) is None, compute from x and y only (not ideal).\n",
    "    Prefer passing a covariance matrix computed from your dataset.\n",
    "    \"\"\"\n",
    "    x, y = np.asarray(x, dtype=float), np.asarray(y, dtype=float)\n",
    "    diff = x - y\n",
    "    if cov is None:\n",
    "        # fallback: estimate 1D variances per feature (diagonal cov) to avoid singular matrix\n",
    "        eps = regularize\n",
    "        var = np.var(np.vstack([x, y]), axis=0) + eps\n",
    "        VI = np.diag(1.0 / var)\n",
    "    else:\n",
    "        cov = np.asarray(cov, dtype=float)\n",
    "        # use pseudo-inverse for stability\n",
    "        VI = np.linalg.pinv(cov)\n",
    "    m = float(np.sqrt(np.dot(np.dot(diff.T, VI), diff)))\n",
    "    return m\n",
    "\n",
    "# ---------------------------\n",
    "# Tiny demo (exam-style examples)\n",
    "# ---------------------------\n",
    "if __name__ == \"__main__\":\n",
    "    a = np.array([1.0, 2.0, 3.0])\n",
    "    b = np.array([2.0, 0.0, 4.0])\n",
    "\n",
    "    print(\"Euclidean:\", euclidean(a, b))\n",
    "    print(\"Squared Euclidean:\", squared_euclidean(a, b))\n",
    "    print(\"Manhattan (L1):\", manhattan(a, b))\n",
    "    print(\"Minkowski p=3:\", minkowski(a, b, p=3))\n",
    "    print(\"Chebyshev:\", chebyshev(a, b))\n",
    "    print(\"Cosine distance:\", cosine_distance(a, b))\n",
    "\n",
    "    # For Mahalanobis, show both: 1) using diagonal fallback and 2) using cov computed from a small dataset\n",
    "    print(\"Mahalanobis (diag-fallback):\", mahalanobis(a, b, cov=None))\n",
    "\n",
    "    # Better: compute covariance from a small toy dataset (columns = features)\n",
    "    X_toy = np.vstack([a, b, [2.0, 2.0, 2.0], [0.0, 1.0, 0.0]])\n",
    "    cov = np.cov(X_toy, rowvar=False)   # shape (d,d)\n",
    "    print(\"Mahalanobis (from toy-cov):\", mahalanobis(a, b, cov=cov))\n"
   ]
  }
 ],
 "metadata": {
  "kernelspec": {
   "display_name": "base",
   "language": "python",
   "name": "python3"
  },
  "language_info": {
   "codemirror_mode": {
    "name": "ipython",
    "version": 3
   },
   "file_extension": ".py",
   "mimetype": "text/x-python",
   "name": "python",
   "nbconvert_exporter": "python",
   "pygments_lexer": "ipython3",
   "version": "3.11.7"
  }
 },
 "nbformat": 4,
 "nbformat_minor": 5
}
