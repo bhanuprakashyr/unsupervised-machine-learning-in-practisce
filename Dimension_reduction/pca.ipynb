{
 "cells": [
  {
   "cell_type": "markdown",
   "id": "dde7ead4",
   "metadata": {},
   "source": [
    "## 🌸 PCA Workflow on Iris Dataset\n",
    "\n",
    "This section explains step by step how to apply PCA to the Iris dataset.\n",
    "\n",
    "---\n",
    "\n",
    "### 1. Standardize the Data\n",
    "PCA is scale-sensitive. Before applying it, we standardize features so that each has mean = 0 and standard deviation = 1.  \n",
    "This ensures all features contribute equally."
   ]
  },
  {
   "cell_type": "code",
   "execution_count": 17,
   "id": "0f9f37f7",
   "metadata": {},
   "outputs": [],
   "source": [
    "from sklearn.decomposition import PCA\n",
    "from sklearn.preprocessing import StandardScaler\n",
    "from sklearn import datasets\n",
    "\n",
    "# Load data\n",
    "iris = datasets.load_iris()\n",
    "X = iris.data\n",
    "Xs = StandardScaler().fit_transform(X)"
   ]
  },
  {
   "cell_type": "markdown",
   "id": "617e6930",
   "metadata": {},
   "source": [
    "### 2. Fit PCA with All Components\n",
    "We first fit PCA keeping all components (equal to the number of original features).  \n",
    "- This gives us **eigenvalues** (variance explained by each component).  \n",
    "- And **eigenvectors** (directions of maximum variance, i.e., principal components)."
   ]
  },
  {
   "cell_type": "code",
   "execution_count": 19,
   "id": "370c9083",
   "metadata": {},
   "outputs": [
    {
     "name": "stdout",
     "output_type": "stream",
     "text": [
      "Explained variance ratio: [0.72962445 0.22850762 0.03668922 0.00517871]\n",
      "Cumulative variance: [0.72962445 0.95813207 0.99482129 1.        ]\n"
     ]
    }
   ],
   "source": [
    "from sklearn.decomposition import PCA\n",
    "pca_full = PCA()\n",
    "pca_full.fit(Xs)\n",
    "\n",
    "print(\"Explained variance ratio:\", pca_full.explained_variance_ratio_)\n",
    "print(\"Cumulative variance:\", pca_full.explained_variance_ratio_.cumsum())\n"
   ]
  },
  {
   "cell_type": "markdown",
   "id": "765dacfb",
   "metadata": {},
   "source": [
    "### 3. Inspect Explained Variance\n",
    "- **Explained variance ratio** shows how much variance each PC captures.  \n",
    "- **Cumulative explained variance** tells us how many PCs are needed to retain most of the information.  \n",
    "- This is usually visualized in a **scree plot** (elbow-shaped curve).  \n",
    "\n",
    "---"
   ]
  },
  {
   "cell_type": "markdown",
   "id": "c420ad6f",
   "metadata": {},
   "source": [
    "### 4. Decide Number of Components\n",
    "- Pick a fixed number of PCs (e.g., 2 for visualization).  \n",
    "- Or choose a variance threshold (e.g., keep enough PCs to explain 95% of variance).  \n",
    "- Example: In Iris, the first **2 PCs** usually capture most of the variance."
   ]
  },
  {
   "cell_type": "code",
   "execution_count": 21,
   "id": "204c351a",
   "metadata": {},
   "outputs": [
    {
     "name": "stdout",
     "output_type": "stream",
     "text": [
      "Reduced shape: (150, 2)\n"
     ]
    }
   ],
   "source": [
    "pca = PCA(n_components=2)\n",
    "X_reduced = pca.fit_transform(Xs)\n",
    "\n",
    "# Option B: Automatic based on variance threshold\n",
    "pca = PCA(n_components=0.95)\n",
    "X_reduced = pca.fit_transform(Xs)\n",
    "\n",
    "print(\"Reduced shape:\", X_reduced.shape)"
   ]
  },
  {
   "cell_type": "markdown",
   "id": "74adafca",
   "metadata": {},
   "source": [
    "### 5. Refit PCA and Transform Data\n",
    "Once the number of components is chosen:\n",
    "- Refit PCA with that number.  \n",
    "- Apply `.fit_transform()` to project the original data into the reduced space.  \n",
    "- Result: A new dataset with fewer features (PC1, PC2, …) that captures most of the structure.  \n"
   ]
  }
 ],
 "metadata": {
  "kernelspec": {
   "display_name": "base",
   "language": "python",
   "name": "python3"
  },
  "language_info": {
   "codemirror_mode": {
    "name": "ipython",
    "version": 3
   },
   "file_extension": ".py",
   "mimetype": "text/x-python",
   "name": "python",
   "nbconvert_exporter": "python",
   "pygments_lexer": "ipython3",
   "version": "3.11.7"
  }
 },
 "nbformat": 4,
 "nbformat_minor": 5
}
