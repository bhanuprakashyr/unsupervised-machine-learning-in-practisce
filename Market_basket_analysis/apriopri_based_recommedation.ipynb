{
 "cells": [
  {
   "cell_type": "code",
   "execution_count": null,
   "id": "2bf94b11-926a-4c7b-8e27-5695100281fe",
   "metadata": {},
   "outputs": [],
   "source": [
    "import pandas as pd\n",
    "import requests\n",
    "from mlxtend.frequent_patterns import apriori\n",
    "from mlxtend.frequent_patterns import association_rules\n",
    "from mlxtend.preprocessing import TransactionEncoder"
   ]
  },
  {
   "cell_type": "code",
   "execution_count": null,
   "id": "55ef0eda-8de0-478d-846b-f9534cb1e57d",
   "metadata": {},
   "outputs": [],
   "source": [
    "url = \"https://raw.githubusercontent.com/stedy/Machine-Learning-with-R-datasets/master/groceries.csv\"\n",
    "txt = requests.get(url).text\n",
    "lines = txt.splitlines()\n",
    "lines[:10]"
   ]
  },
  {
   "cell_type": "code",
   "execution_count": null,
   "id": "48e94453-d7a6-4a90-b58f-2600f9abb784",
   "metadata": {},
   "outputs": [],
   "source": [
    "transactions = []\n",
    "for transaction in lines:\n",
    "    items = transaction.split(',')\n",
    "    transactions.append(items)\n",
    "\n",
    "transactions[:10]"
   ]
  },
  {
   "cell_type": "code",
   "execution_count": null,
   "id": "05973086-43a6-45ce-adc5-0c0b332daf1f",
   "metadata": {},
   "outputs": [],
   "source": [
    "encoder = TransactionEncoder()\n",
    "transactions_array = encoder.fit(transactions).transform(transactions)\n",
    "transactions_array[1:10]"
   ]
  },
  {
   "cell_type": "code",
   "execution_count": null,
   "id": "b01c0465-00ae-4131-b828-bfdd51b271a4",
   "metadata": {},
   "outputs": [],
   "source": [
    "df = pd.DataFrame(transactions_array, columns=encoder.columns_)"
   ]
  },
  {
   "cell_type": "code",
   "execution_count": null,
   "id": "2a6462fc-4a9e-400f-909a-c42fcb009a0c",
   "metadata": {},
   "outputs": [],
   "source": [
    "df.head()"
   ]
  },
  {
   "cell_type": "code",
   "execution_count": null,
   "id": "d564d186-4f09-458e-a6d9-5b6c9fd8cc83",
   "metadata": {},
   "outputs": [],
   "source": [
    "frequent_itemsets = apriori(df, min_support=0.01, use_colnames=True)"
   ]
  },
  {
   "cell_type": "code",
   "execution_count": null,
   "id": "e7872969-60bb-498e-a6c7-161354f54370",
   "metadata": {},
   "outputs": [],
   "source": [
    "frequent_itemsets[:20]"
   ]
  },
  {
   "cell_type": "code",
   "execution_count": null,
   "id": "fc824c2d-0d2a-45fe-8b70-edb7ce2bde21",
   "metadata": {},
   "outputs": [],
   "source": [
    "df_association_rules = association_rules(frequent_itemsets, num_itemsets=1, metric = \"confidence\", min_threshold = 0.01)\n",
    "df_association_rules[:10]"
   ]
  },
  {
   "cell_type": "code",
   "execution_count": null,
   "id": "536467e3-9ec3-469b-b635-6ce0786cdfa0",
   "metadata": {},
   "outputs": [],
   "source": [
    "df_association_rules.sort_values(\"confidence\",ascending=False)"
   ]
  }
 ],
 "metadata": {
  "kernelspec": {
   "display_name": "Python 3 (ipykernel)",
   "language": "python",
   "name": "python3"
  },
  "language_info": {
   "codemirror_mode": {
    "name": "ipython",
    "version": 3
   },
   "file_extension": ".py",
   "mimetype": "text/x-python",
   "name": "python",
   "nbconvert_exporter": "python",
   "pygments_lexer": "ipython3",
   "version": "3.11.7"
  }
 },
 "nbformat": 4,
 "nbformat_minor": 5
}
